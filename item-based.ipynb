{
 "cells": [
  {
   "cell_type": "code",
   "execution_count": 185,
   "metadata": {},
   "outputs": [
    {
     "name": "stdout",
     "output_type": "stream",
     "text": [
      "The autoreload extension is already loaded. To reload it, use:\n",
      "  %reload_ext autoreload\n"
     ]
    }
   ],
   "source": [
    "%load_ext autoreload\n",
    "%autoreload 2\n",
    "import numpy as np\n",
    "import pandas as pd\n",
    "from sklearn.metrics.pairwise import cosine_similarity\n",
    "import operator\n",
    "from item_based_utils import *"
   ]
  },
  {
   "cell_type": "code",
   "execution_count": 115,
   "metadata": {},
   "outputs": [
    {
     "name": "stdout",
     "output_type": "stream",
     "text": [
      "No similar items found for the target movie 127\n",
      "No similar items found for the target movie 133\n",
      "No similar items found for the target movie 134\n",
      "No similar items found for the target movie 139\n",
      "No similar items found for the target movie 142\n",
      "No similar items found for the target movie 226\n",
      "No similar items found for the target movie 286\n",
      "No similar items found for the target movie 311\n",
      "No similar items found for the target movie 396\n",
      "No similar items found for the target movie 398\n",
      "No similar items found for the target movie 402\n",
      "No similar items found for the target movie 545\n",
      "No similar items found for the target movie 576\n",
      "No similar items found for the target movie 579\n",
      "No similar items found for the target movie 582\n",
      "No similar items found for the target movie 584\n",
      "No similar items found for the target movie 601\n",
      "No similar items found for the target movie 624\n",
      "No similar items found for the target movie 641\n",
      "No similar items found for the target movie 642\n",
      "No similar items found for the target movie 644\n",
      "No similar items found for the target movie 651\n",
      "No similar items found for the target movie 655\n",
      "No similar items found for the target movie 657\n",
      "No similar items found for the target movie 658\n",
      "No similar items found for the target movie 672\n",
      "No similar items found for the target movie 684\n",
      "No similar items found for the target movie 701\n",
      "No similar items found for the target movie 717\n",
      "No similar items found for the target movie 730\n",
      "No similar items found for the target movie 758\n",
      "No similar items found for the target movie 763\n",
      "No similar items found for the target movie 774\n",
      "No similar items found for the target movie 787\n",
      "No similar items found for the target movie 790\n",
      "No similar items found for the target movie 792\n",
      "No similar items found for the target movie 814\n",
      "No similar items found for the target movie 826\n",
      "No similar items found for the target movie 827\n",
      "No similar items found for the target movie 843\n",
      "No similar items found for the target movie 859\n",
      "No similar items found for the target movie 865\n",
      "No similar items found for the target movie 868\n",
      "No similar items found for the target movie 872\n",
      "No similar items found for the target movie 878\n",
      "No similar items found for the target movie 884\n",
      "No similar items found for the target movie 895\n",
      "No similar items found for the target movie 977\n",
      "No similar items found for the target movie 989\n",
      "No similar items found for the target movie 1070\n",
      "No similar items found for the target movie 1115\n",
      "No similar items found for the target movie 1118\n",
      "No similar items found for the target movie 1134\n",
      "No similar items found for the target movie 1139\n",
      "No similar items found for the target movie 1142\n",
      "No similar items found for the target movie 1165\n",
      "No similar items found for the target movie 1311\n",
      "No similar items found for the target movie 1316\n",
      "No similar items found for the target movie 1386\n",
      "No similar items found for the target movie 1430\n",
      "No similar items found for the target movie 1434\n",
      "No similar items found for the target movie 1470\n",
      "No similar items found for the target movie 1579\n",
      "No similar items found for the target movie 1630\n",
      "No similar items found for the target movie 1709\n",
      "No similar items found for the target movie 1714\n",
      "No similar items found for the target movie 1724\n",
      "No similar items found for the target movie 1764\n",
      "No similar items found for the target movie 1815\n",
      "No similar items found for the target movie 1820\n",
      "No similar items found for the target movie 1830\n",
      "No similar items found for the target movie 1832\n",
      "No similar items found for the target movie 1842\n",
      "No similar items found for the target movie 1843\n",
      "No similar items found for the target movie 1851\n",
      "No similar items found for the target movie 1852\n",
      "No similar items found for the target movie 1908\n",
      "No similar items found for the target movie 1915\n",
      "No similar items found for the target movie 2039\n",
      "No similar items found for the target movie 2213\n",
      "No similar items found for the target movie 2214\n",
      "No similar items found for the target movie 2217\n",
      "No similar items found for the target movie 2218\n",
      "No similar items found for the target movie 2226\n",
      "No similar items found for the target movie 2235\n",
      "No similar items found for the target movie 2254\n",
      "No similar items found for the target movie 2277\n",
      "No similar items found for the target movie 2308\n",
      "No similar items found for the target movie 2343\n",
      "No similar items found for the target movie 2438\n",
      "No similar items found for the target movie 2484\n",
      "No similar items found for the target movie 2556\n",
      "No similar items found for the target movie 2563\n",
      "No similar items found for the target movie 2584\n",
      "No similar items found for the target movie 2592\n",
      "No similar items found for the target movie 2619\n",
      "No similar items found for the target movie 2703\n",
      "No similar items found for the target movie 2742\n",
      "No similar items found for the target movie 2811\n",
      "No similar items found for the target movie 2845\n",
      "No similar items found for the target movie 2895\n",
      "No similar items found for the target movie 2909\n",
      "No similar items found for the target movie 3057\n",
      "No similar items found for the target movie 3065\n",
      "No similar items found for the target movie 3123\n",
      "No similar items found for the target movie 3126\n",
      "No similar items found for the target movie 3151\n",
      "No similar items found for the target movie 3164\n",
      "No similar items found for the target movie 3172\n",
      "No similar items found for the target movie 3202\n",
      "No similar items found for the target movie 3209\n",
      "No similar items found for the target movie 3220\n",
      "No similar items found for the target movie 3228\n",
      "No similar items found for the target movie 3229\n",
      "No similar items found for the target movie 3233\n",
      "No similar items found for the target movie 3237\n",
      "No similar items found for the target movie 3277\n",
      "No similar items found for the target movie 3280\n",
      "No similar items found for the target movie 3290\n",
      "No similar items found for the target movie 3291\n",
      "No similar items found for the target movie 3297\n",
      "No similar items found for the target movie 3305\n",
      "No similar items found for the target movie 3312\n",
      "No similar items found for the target movie 3315\n",
      "No similar items found for the target movie 3321\n",
      "No similar items found for the target movie 3323\n",
      "No similar items found for the target movie 3336\n",
      "No similar items found for the target movie 3353\n",
      "No similar items found for the target movie 3376\n",
      "No similar items found for the target movie 3382\n",
      "No similar items found for the target movie 3458\n",
      "No similar items found for the target movie 3460\n",
      "No similar items found for the target movie 3493\n",
      "No similar items found for the target movie 3530\n",
      "No similar items found for the target movie 3601\n",
      "No similar items found for the target movie 3607\n",
      "No similar items found for the target movie 3647\n",
      "No similar items found for the target movie 3651\n",
      "No similar items found for the target movie 3656\n",
      "No similar items found for the target movie 3687\n",
      "No similar items found for the target movie 3722\n",
      "No similar items found for the target movie 3779\n",
      "No similar items found for the target movie 3842\n",
      "No similar items found for the target movie 3881\n",
      "No similar items found for the target movie 3890\n",
      "No similar items found for the target movie 3904\n"
     ]
    },
    {
     "data": {
      "text/plain": [
       "[(3295, 0.368385),\n",
       " (1988, 0.364045),\n",
       " (885, 0.361383),\n",
       " (3605, 0.350935),\n",
       " (470, 0.347706),\n",
       " (526, 0.345763),\n",
       " (3689, 0.342054),\n",
       " (835, 0.324785),\n",
       " (2456, 0.321888),\n",
       " (1365, 0.321089)]"
      ]
     },
     "execution_count": 115,
     "metadata": {},
     "output_type": "execute_result"
    }
   ],
   "source": [
    "# test function\n",
    "# recommend items for user 1\n",
    "recommend_top_n_to_user(1)"
   ]
  },
  {
   "cell_type": "code",
   "execution_count": 107,
   "metadata": {},
   "outputs": [],
   "source": [
    "data = read_data()\n",
    "matrix_norm = get_user_item_matrix(data)"
   ]
  },
  {
   "cell_type": "code",
   "execution_count": null,
   "metadata": {},
   "outputs": [],
   "source": [
    "item_similarity_matrix = get_similarity_matrix(matrix_norm)"
   ]
  },
  {
   "cell_type": "code",
   "execution_count": 186,
   "metadata": {},
   "outputs": [],
   "source": [
    "predicted_ratings_df = generate_predicted_ratings(matrix_norm, item_similarity_matrix)"
   ]
  },
  {
   "cell_type": "code",
   "execution_count": 187,
   "metadata": {},
   "outputs": [
    {
     "data": {
      "text/plain": [
       "(3.5654486571428574, 3.6951627596804966)"
      ]
     },
     "execution_count": 187,
     "metadata": {},
     "output_type": "execute_result"
    }
   ],
   "source": [
    "calculate_MAE_RMSE(predicted_ratings_df, data)"
   ]
  }
 ],
 "metadata": {
  "kernelspec": {
   "display_name": "recsys",
   "language": "python",
   "name": "python3"
  },
  "language_info": {
   "codemirror_mode": {
    "name": "ipython",
    "version": 3
   },
   "file_extension": ".py",
   "mimetype": "text/x-python",
   "name": "python",
   "nbconvert_exporter": "python",
   "pygments_lexer": "ipython3",
   "version": "3.9.0"
  }
 },
 "nbformat": 4,
 "nbformat_minor": 2
}
